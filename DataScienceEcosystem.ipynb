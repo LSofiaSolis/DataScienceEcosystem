{
 "cells": [
  {
   "cell_type": "markdown",
   "id": "e294f457-382d-4669-a28d-48288413ae0f",
   "metadata": {},
   "source": [
    "# Data Science Tools and Ecosystem "
   ]
  },
  {
   "cell_type": "markdown",
   "id": "1914928d-bb90-4b3d-b794-0e78352d0551",
   "metadata": {},
   "source": [
    "In this notebook, Data Science Tools and Ecosystem are summarized.\n",
    "\n"
   ]
  },
  {
   "cell_type": "markdown",
   "id": "fd3ae5cd-2d05-4ae2-8893-27cd44e1d78b",
   "metadata": {},
   "source": [
    "Some of the popular languages that Data Scientists use are:\n",
    "1. Python\n",
    "2. R\n",
    "3. Julia\n",
    "4. SQL\n",
    "5. Java\n",
    "6. C++"
   ]
  },
  {
   "cell_type": "markdown",
   "id": "2973dd9f-54c4-4995-8be0-114d792e1e2f",
   "metadata": {},
   "source": [
    "Some of the commonly used libraries used by Data Scientists include:\n",
    "1. Numpy\n",
    "3. ggplot\n",
    "4. Seaborn\n",
    "5. Mathplotlib\n",
    "6. Pandas"
   ]
  },
  {
   "cell_type": "markdown",
   "id": "5e968b52-a632-4b9f-b7fe-c456e5a6afac",
   "metadata": {
    "scrolled": true
   },
   "source": [
    "|Data Science Tools|\n",
    "|------------------|\n",
    "| Mongo DB|\n",
    "| Jupyter Notebooks|\n",
    "| GitHub|\n",
    "| Spyder|\n"
   ]
  },
  {
   "cell_type": "markdown",
   "id": "ddd71f2f-2a53-495d-beb6-119233399f9f",
   "metadata": {},
   "source": [
    "### Below are a few examples of evaluating arithmetic expressions in Python"
   ]
  },
  {
   "cell_type": "code",
   "execution_count": 12,
   "id": "8a6530fa-4248-426a-97de-d043c3f9f092",
   "metadata": {},
   "outputs": [
    {
     "data": {
      "text/plain": [
       "17"
      ]
     },
     "execution_count": 12,
     "metadata": {},
     "output_type": "execute_result"
    }
   ],
   "source": [
    "#This a simple arithmetic expression to mutiply then add integers\n",
    "(3*4)+5"
   ]
  },
  {
   "cell_type": "code",
   "execution_count": 13,
   "id": "b92c270c-4593-4490-be08-ba9938fc054e",
   "metadata": {},
   "outputs": [
    {
     "data": {
      "text/plain": [
       "3.3333333333333335"
      ]
     },
     "execution_count": 13,
     "metadata": {},
     "output_type": "execute_result"
    }
   ],
   "source": [
    "#This will convert 200 minutes to hours by diving by 60\n",
    "200/60"
   ]
  },
  {
   "cell_type": "markdown",
   "id": "8fa8efb5-e24d-4281-bae3-352a0adc49d9",
   "metadata": {},
   "source": [
    "### Objectives:\n",
    "* List popular languages for Data Science\n",
    "* List popular libraries for Data Science\n",
    "* Table of 3 development environment open source tools used in Data Science\n",
    "* Arithmetic expression to mutiply then add integers\n",
    "* Arithmetic expression to convert 200 minutes to hours by diving by 60"
   ]
  },
  {
   "cell_type": "markdown",
   "id": "c44367fa-b7fd-4103-9b2a-6e46fc2f6409",
   "metadata": {},
   "source": [
    "## Author\n",
    "Sofia Solis G."
   ]
  },
  {
   "cell_type": "code",
   "execution_count": null,
   "id": "362497d7-9b3d-4117-8899-bb3f0650b071",
   "metadata": {},
   "outputs": [],
   "source": []
  }
 ],
 "metadata": {
  "kernelspec": {
   "display_name": "Python 3 (ipykernel)",
   "language": "python",
   "name": "python3"
  },
  "language_info": {
   "codemirror_mode": {
    "name": "ipython",
    "version": 3
   },
   "file_extension": ".py",
   "mimetype": "text/x-python",
   "name": "python",
   "nbconvert_exporter": "python",
   "pygments_lexer": "ipython3",
   "version": "3.13.5"
  }
 },
 "nbformat": 4,
 "nbformat_minor": 5
}
